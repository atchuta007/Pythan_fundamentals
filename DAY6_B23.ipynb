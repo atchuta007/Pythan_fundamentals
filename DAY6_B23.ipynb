{
 "cells": [
  {
   "cell_type": "code",
   "execution_count": 1,
   "metadata": {},
   "outputs": [
    {
     "name": "stdout",
     "output_type": "stream",
     "text": [
      "['ram', 'laxman', 'krishna', 'faiyaz', 'kiran', 'subbu', 'laxmi', 'rao', 'sam']\n"
     ]
    }
   ],
   "source": [
    "Students=['ram','laxman','krishna','faiyaz','kiran','subbu','laxmi','rao','sam']\n",
    "print(Students)"
   ]
  },
  {
   "cell_type": "code",
   "execution_count": 2,
   "metadata": {},
   "outputs": [
    {
     "data": {
      "text/plain": [
       "9"
      ]
     },
     "execution_count": 2,
     "metadata": {},
     "output_type": "execute_result"
    }
   ],
   "source": [
    "#lenght of the list\n",
    "len(Students)"
   ]
  },
  {
   "cell_type": "code",
   "execution_count": 3,
   "metadata": {},
   "outputs": [
    {
     "name": "stdout",
     "output_type": "stream",
     "text": [
      "['faiyaz', 'kiran', 'krishna', 'laxman', 'laxmi', 'ram', 'rao', 'sam', 'subbu']\n",
      "['ram', 'laxman', 'krishna', 'faiyaz', 'kiran', 'subbu', 'laxmi', 'rao', 'sam']\n"
     ]
    }
   ],
   "source": [
    "#temparay way\n",
    "print(sorted(Students))\n",
    "print(Students)\n"
   ]
  },
  {
   "cell_type": "code",
   "execution_count": 4,
   "metadata": {},
   "outputs": [
    {
     "name": "stdout",
     "output_type": "stream",
     "text": [
      "['faiyaz', 'kiran', 'krishna', 'laxman', 'laxmi', 'ram', 'rao', 'sam', 'subbu']\n"
     ]
    }
   ],
   "source": [
    "#permenent way(organizing list)\n",
    "Students.sort()\n",
    "print(Students)\n"
   ]
  },
  {
   "cell_type": "code",
   "execution_count": 10,
   "metadata": {},
   "outputs": [
    {
     "name": "stdout",
     "output_type": "stream",
     "text": [
      "Faiyaz\n",
      "Kiran\n",
      "Krishna\n",
      "Laxman\n",
      "Laxmi\n",
      "Ram\n",
      "Rao\n",
      "Sam\n",
      "Subbu\n"
     ]
    }
   ],
   "source": [
    "#example of if/else condition\n",
    "# if name is atchuta in the list should all students change to capital else all other names i want to get printed in the title case\n",
    "for x in Students:\n",
    "    if x== 'atchuta':\n",
    "        print(x.upper())\n",
    "    else:\n",
    "        print(x.title())\n",
    "        "
   ]
  },
  {
   "cell_type": "code",
   "execution_count": 14,
   "metadata": {},
   "outputs": [
    {
     "name": "stdout",
     "output_type": "stream",
     "text": [
      "['faiyaz']\n",
      "['krishna', 'laxman']\n",
      "['laxmi', 'ram']\n",
      "['rao', 'sam']\n",
      "['subbu']\n"
     ]
    }
   ],
   "source": [
    "#introduction to slicing of lists\n",
    "#display  students of each group i wanted to make\n",
    "#General syntax of a slicing\n",
    "# variable[startvalue:stopvalue:stepcount]\n",
    "print(Students[0:1])\n",
    "print(Students[2:4])\n",
    "print(Students[4:6])\n",
    "print(Students[6:8])\n",
    "print(Students[8:10])"
   ]
  },
  {
   "cell_type": "code",
   "execution_count": 15,
   "metadata": {},
   "outputs": [
    {
     "name": "stdout",
     "output_type": "stream",
     "text": [
      "['faiyaz', 'krishna', 'laxmi', 'rao', 'subbu']\n"
     ]
    }
   ],
   "source": [
    "#req: i want to create a slice alternative students\n",
    "print(Students[0:9:2])"
   ]
  },
  {
   "cell_type": "code",
   "execution_count": 16,
   "metadata": {},
   "outputs": [
    {
     "name": "stdout",
     "output_type": "stream",
     "text": [
      "subbu\n",
      "sam\n"
     ]
    }
   ],
   "source": [
    "#negitive indexing(-1,-2,-3)\n",
    "print(Students[-1])\n",
    "print(Students[-2])"
   ]
  },
  {
   "cell_type": "code",
   "execution_count": 17,
   "metadata": {},
   "outputs": [
    {
     "name": "stdout",
     "output_type": "stream",
     "text": [
      "['subbu', 'sam', 'rao', 'ram', 'laxmi', 'laxman', 'krishna', 'kiran', 'faiyaz']\n"
     ]
    }
   ],
   "source": [
    "#how to reverse a list by using indexing\n",
    "print(Students[::-1])"
   ]
  },
  {
   "cell_type": "code",
   "execution_count": null,
   "metadata": {},
   "outputs": [],
   "source": []
  }
 ],
 "metadata": {
  "kernelspec": {
   "display_name": "Python 3",
   "language": "python",
   "name": "python3"
  },
  "language_info": {
   "codemirror_mode": {
    "name": "ipython",
    "version": 3
   },
   "file_extension": ".py",
   "mimetype": "text/x-python",
   "name": "python",
   "nbconvert_exporter": "python",
   "pygments_lexer": "ipython3",
   "version": "3.7.6"
  }
 },
 "nbformat": 4,
 "nbformat_minor": 4
}
