{
 "cells": [
  {
   "cell_type": "code",
   "execution_count": 1,
   "metadata": {},
   "outputs": [
    {
     "name": "stdout",
     "output_type": "stream",
     "text": [
      "tell me something and i will repeat it back you:hi all\n",
      "hi all\n"
     ]
    }
   ],
   "source": [
    "#Introduction to user input\n",
    "message=input(\"tell me something and i will repeat it back you:\")\n",
    "print(message)"
   ]
  },
  {
   "cell_type": "code",
   "execution_count": 2,
   "metadata": {},
   "outputs": [
    {
     "name": "stdout",
     "output_type": "stream",
     "text": [
      "Please enter your name :AtchutaRao\n",
      "\n",
      " Hello,Atchutarao\n"
     ]
    }
   ],
   "source": [
    "#example of input\n",
    "name=input(\"Please enter your name :\")\n",
    "print(f\"\\n Hello,{name.title()}\")"
   ]
  },
  {
   "cell_type": "code",
   "execution_count": 5,
   "metadata": {},
   "outputs": [
    {
     "name": "stdout",
     "output_type": "stream",
     "text": [
      "if you tell me when you are,we can personalize the message for you:\n",
      " what  is your firstName?rao\n",
      "\n",
      " Hello,Rao\n"
     ]
    }
   ],
   "source": [
    "#to enhance the code\n",
    "prompt=\"if you tell me when you are,we can personalize the message for you:\"\n",
    "prompt+=\"\\n what  is your firstName?\"\n",
    "name=input(prompt)\n",
    "print(f\"\\n Hello,{name.title()}\")"
   ]
  },
  {
   "cell_type": "code",
   "execution_count": 6,
   "metadata": {},
   "outputs": [
    {
     "name": "stdout",
     "output_type": "stream",
     "text": [
      "How old are you?45\n",
      "45\n"
     ]
    }
   ],
   "source": [
    "#more examples\n",
    "age=input(\"How old are you?\")\n",
    "print(age)"
   ]
  },
  {
   "cell_type": "code",
   "execution_count": 7,
   "metadata": {},
   "outputs": [
    {
     "data": {
      "text/plain": [
       "str"
      ]
     },
     "execution_count": 7,
     "metadata": {},
     "output_type": "execute_result"
    }
   ],
   "source": [
    "type(age)"
   ]
  },
  {
   "cell_type": "code",
   "execution_count": 12,
   "metadata": {},
   "outputs": [
    {
     "name": "stdout",
     "output_type": "stream",
     "text": [
      "How old are you?25\n"
     ]
    },
    {
     "data": {
      "text/plain": [
       "int"
      ]
     },
     "execution_count": 12,
     "metadata": {},
     "output_type": "execute_result"
    }
   ],
   "source": [
    "#comparision example\n",
    "age=input(\"How old are you?\")\n",
    "age=int(age)\n",
    "type(age)"
   ]
  },
  {
   "cell_type": "code",
   "execution_count": 17,
   "metadata": {},
   "outputs": [
    {
     "name": "stdout",
     "output_type": "stream",
     "text": [
      "How old are you?50\n",
      "you are eligiable for vote\n"
     ]
    }
   ],
   "source": [
    "#voting the applicaton  age of greater than 30\n",
    "age=input(\"How old are you?\")\n",
    "age=int(age)\n",
    "if age>=21:\n",
    "    print(\"you are eligiable for vote\")\n",
    "else:\n",
    "    print(\"you are not eligiable for vote\")\n",
    "    "
   ]
  },
  {
   "cell_type": "code",
   "execution_count": null,
   "metadata": {},
   "outputs": [],
   "source": []
  }
 ],
 "metadata": {
  "kernelspec": {
   "display_name": "Python 3",
   "language": "python",
   "name": "python3"
  },
  "language_info": {
   "codemirror_mode": {
    "name": "ipython",
    "version": 3
   },
   "file_extension": ".py",
   "mimetype": "text/x-python",
   "name": "python",
   "nbconvert_exporter": "python",
   "pygments_lexer": "ipython3",
   "version": "3.7.6"
  }
 },
 "nbformat": 4,
 "nbformat_minor": 4
}
