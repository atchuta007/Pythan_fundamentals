{
 "cells": [
  {
   "cell_type": "code",
   "execution_count": 1,
   "metadata": {},
   "outputs": [
    {
     "name": "stdout",
     "output_type": "stream",
     "text": [
      "sachinsunil\n"
     ]
    }
   ],
   "source": [
    "#Introduction to F Strings(Requirement of full names(append the strings))\n",
    "firstName=\"sachin\"\n",
    "lastName=\"sunil\"\n",
    "fullName=f\"{firstName}{lastName}\"\n",
    "print(fullName);"
   ]
  },
  {
   "cell_type": "code",
   "execution_count": 14,
   "metadata": {},
   "outputs": [
    {
     "name": "stdout",
     "output_type": "stream",
     "text": [
      "Sachinsunil\n",
      "good work for batch 23,Sachinsunil\n"
     ]
    }
   ],
   "source": [
    "#enhancement of the code\n",
    "print(fullName.title());\n",
    "print(f\"good work for batch 23,{fullName.title()}\")"
   ]
  },
  {
   "cell_type": "code",
   "execution_count": 7,
   "metadata": {},
   "outputs": [
    {
     "name": "stdout",
     "output_type": "stream",
     "text": [
      "fav_fruits:orangemangopapaya\n"
     ]
    }
   ],
   "source": [
    "#Adding whitespaces in strings\n",
    "print('fav_fruits:orangemangopapaya')"
   ]
  },
  {
   "cell_type": "code",
   "execution_count": 5,
   "metadata": {},
   "outputs": [
    {
     "name": "stdout",
     "output_type": "stream",
     "text": [
      "fav_Fruits:\n",
      "orange\n",
      "mango\n",
      "pappaya\n",
      "fav_Fruits:\n",
      "\torange\n",
      "\tmango\n",
      "\tpapaya\n"
     ]
    }
   ],
   "source": [
    "#new line delimiter improvisation of code\n",
    "print('fav_Fruits:\\norange\\nmango\\npappaya');\n",
    "print('fav_Fruits:\\n\\torange\\n\\tmango\\n\\tpapaya');\n"
   ]
  },
  {
   "cell_type": "code",
   "execution_count": 9,
   "metadata": {},
   "outputs": [
    {
     "name": "stdout",
     "output_type": "stream",
     "text": [
      "    Atchuta    \n",
      "Atchuta    \n",
      "    Atchuta\n",
      "Atchuta\n"
     ]
    }
   ],
   "source": [
    "#Remove whitespaces for string(strip)\n",
    "first_name=\"    Atchuta    \"\n",
    "print(first_name);\n",
    "print(first_name.lstrip());\n",
    "print(first_name.rstrip());\n",
    "print(first_name.strip());"
   ]
  },
  {
   "cell_type": "code",
   "execution_count": 10,
   "metadata": {},
   "outputs": [
    {
     "name": "stdout",
     "output_type": "stream",
     "text": [
      "The Zen of Python, by Tim Peters\n",
      "\n",
      "Beautiful is better than ugly.\n",
      "Explicit is better than implicit.\n",
      "Simple is better than complex.\n",
      "Complex is better than complicated.\n",
      "Flat is better than nested.\n",
      "Sparse is better than dense.\n",
      "Readability counts.\n",
      "Special cases aren't special enough to break the rules.\n",
      "Although practicality beats purity.\n",
      "Errors should never pass silently.\n",
      "Unless explicitly silenced.\n",
      "In the face of ambiguity, refuse the temptation to guess.\n",
      "There should be one-- and preferably only one --obvious way to do it.\n",
      "Although that way may not be obvious at first unless you're Dutch.\n",
      "Now is better than never.\n",
      "Although never is often better than *right* now.\n",
      "If the implementation is hard to explain, it's a bad idea.\n",
      "If the implementation is easy to explain, it may be a good idea.\n",
      "Namespaces are one honking great idea -- let's do more of those!\n"
     ]
    }
   ],
   "source": [
    "# zen of python\n",
    "import this"
   ]
  },
  {
   "cell_type": "code",
   "execution_count": null,
   "metadata": {},
   "outputs": [],
   "source": []
  }
 ],
 "metadata": {
  "kernelspec": {
   "display_name": "Python 3",
   "language": "python",
   "name": "python3"
  },
  "language_info": {
   "codemirror_mode": {
    "name": "ipython",
    "version": 3
   },
   "file_extension": ".py",
   "mimetype": "text/x-python",
   "name": "python",
   "nbconvert_exporter": "python",
   "pygments_lexer": "ipython3",
   "version": "3.7.6"
  }
 },
 "nbformat": 4,
 "nbformat_minor": 4
}
