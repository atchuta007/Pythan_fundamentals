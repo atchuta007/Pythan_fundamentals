{
 "cells": [
  {
   "cell_type": "code",
   "execution_count": 1,
   "metadata": {},
   "outputs": [
    {
     "name": "stdout",
     "output_type": "stream",
     "text": [
      "['atchut', 'ram', 'pavani', 'krishna']\n"
     ]
    }
   ],
   "source": [
    "#List data type example\n",
    "Employees=['atchut','ram','pavani','krishna']\n",
    "print(Employees);"
   ]
  },
  {
   "cell_type": "code",
   "execution_count": 7,
   "metadata": {},
   "outputs": [
    {
     "name": "stdout",
     "output_type": "stream",
     "text": [
      "krishna\n",
      "Krishna\n",
      "KRISHNA\n",
      "krishna\n"
     ]
    }
   ],
   "source": [
    "# i want to  acces the krshna name in the output(get) and enhancesment of the code\n",
    "print(Employees[3]);\n",
    "print(Employees[3].title());\n",
    "print(Employees[3].upper());\n",
    "print(Employees[3].lower());"
   ]
  },
  {
   "cell_type": "code",
   "execution_count": 9,
   "metadata": {},
   "outputs": [
    {
     "name": "stdout",
     "output_type": "stream",
     "text": [
      "['atchut', 'ram', 'krishna pavan', 'krishna']\n"
     ]
    }
   ],
   "source": [
    "#reassingment of adding or removing elements  in the list \n",
    "#replace pavani  with krishna pavani\n",
    "Employees[2] = 'krishna pavan'\n",
    "print(Employees);\n"
   ]
  },
  {
   "cell_type": "code",
   "execution_count": 10,
   "metadata": {},
   "outputs": [
    {
     "name": "stdout",
     "output_type": "stream",
     "text": [
      "['atchut', 'ram', 'krishna pavan', 'krishna', 'Rao', 'salman']\n"
     ]
    }
   ],
   "source": [
    "#Add the element of the list\n",
    "Employees.append('Rao');\n",
    "Employees.append('salman');\n",
    "print(Employees);"
   ]
  },
  {
   "cell_type": "code",
   "execution_count": 17,
   "metadata": {},
   "outputs": [
    {
     "name": "stdout",
     "output_type": "stream",
     "text": [
      "['ram', 'krishna pavan', 'krishna', 'Rao', 'salman']\n"
     ]
    }
   ],
   "source": [
    "#append VS insert(appent add the element in the last but insert will add particular position)\n",
    "#remove eleements from the list(permenent delete)\n",
    "del Employees[0]\n",
    "print(Employees);"
   ]
  },
  {
   "cell_type": "code",
   "execution_count": 20,
   "metadata": {},
   "outputs": [
    {
     "name": "stdout",
     "output_type": "stream",
     "text": [
      "['krishna pavan', 'krishna']\n",
      "Rao\n"
     ]
    }
   ],
   "source": [
    "#it wll be creating a carboncopey of the deleted items from last\n",
    "x=Employees.pop();\n",
    "print(Employees);\n",
    "print(x);"
   ]
  },
  {
   "cell_type": "code",
   "execution_count": 21,
   "metadata": {},
   "outputs": [
    {
     "name": "stdout",
     "output_type": "stream",
     "text": [
      "['krishna']\n",
      "krishna pavan\n"
     ]
    }
   ],
   "source": [
    "#it wll be creating a carboncopey of the deleted items from position\n",
    "y=Employees.pop(0);\n",
    "print(Employees);\n",
    "print(y);"
   ]
  },
  {
   "cell_type": "code",
   "execution_count": null,
   "metadata": {},
   "outputs": [],
   "source": []
  }
 ],
 "metadata": {
  "kernelspec": {
   "display_name": "Python 3",
   "language": "python",
   "name": "python3"
  },
  "language_info": {
   "codemirror_mode": {
    "name": "ipython",
    "version": 3
   },
   "file_extension": ".py",
   "mimetype": "text/x-python",
   "name": "python",
   "nbconvert_exporter": "python",
   "pygments_lexer": "ipython3",
   "version": "3.7.6"
  }
 },
 "nbformat": 4,
 "nbformat_minor": 4
}
