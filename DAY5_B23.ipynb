{
 "cells": [
  {
   "cell_type": "code",
   "execution_count": 10,
   "metadata": {},
   "outputs": [
    {
     "name": "stdout",
     "output_type": "stream",
     "text": [
      "wish you happy new year,['atchuta', 'rama', 'krishna', 'ramesh', 'suresh', 'ritvik', 'pratysha', 'sahasra']\n",
      "wish you happy new year,atchuta\n"
     ]
    }
   ],
   "source": [
    "#Working with for loops\n",
    "bank_customeres=['atchuta','rama','krishna','ramesh','suresh','ritvik','pratysha','sahasra']\n",
    "#req of new years wishes to all bank customers\n",
    "print(f\"wish you happy new year,{bank_customeres}\")\n",
    "print(f\"wish you happy new year,{bank_customeres[0]}\")"
   ]
  },
  {
   "cell_type": "code",
   "execution_count": 11,
   "metadata": {},
   "outputs": [
    {
     "name": "stdout",
     "output_type": "stream",
     "text": [
      "Keep up the good work,atchuta \n",
      "Keep up the good work,rama \n",
      "Keep up the good work,krishna \n",
      "Keep up the good work,ramesh \n",
      "Keep up the good work,suresh \n",
      "Keep up the good work,ritvik \n",
      "Keep up the good work,pratysha \n",
      "Keep up the good work,sahasra \n"
     ]
    }
   ],
   "source": [
    "# example of for loop condition \n",
    "Students=['atchuta','rama','krishna','ramesh','suresh','ritvik','pratysha','sahasra']\n",
    "for x in Students:\n",
    "    print(f\"Keep up the good work,{x} \")"
   ]
  },
  {
   "cell_type": "code",
   "execution_count": 19,
   "metadata": {},
   "outputs": [
    {
     "name": "stdout",
     "output_type": "stream",
     "text": [
      "wish you happy new year,atchuta\n",
      "wish you happy new year,rama\n",
      "wish you happy new year,krishna\n",
      "wish you happy new year,ramesh\n",
      "wish you happy new year,suresh\n",
      "wish you happy new year,ritvik\n",
      "wish you happy new year,pratysha\n",
      "wish you happy new year,sahasra\n"
     ]
    }
   ],
   "source": [
    "for y in bank_customeres:\n",
    "    print(f\"wish you happy new year,{y}\")\n",
    "    "
   ]
  },
  {
   "cell_type": "code",
   "execution_count": 18,
   "metadata": {},
   "outputs": [
    {
     "name": "stdout",
     "output_type": "stream",
     "text": [
      "wish you happy new year,Atchuta\n",
      "wish you happy new year,Rama\n",
      "wish you happy new year,Krishna\n",
      "wish you happy new year,Ramesh\n",
      "wish you happy new year,Suresh\n",
      "wish you happy new year,Ritvik\n",
      "wish you happy new year,Pratysha\n",
      "wish you happy new year,Sahasra\n"
     ]
    }
   ],
   "source": [
    "for y in bank_customeres:\n",
    "   print(f\"wish you happy new year,{y.title()}\")"
   ]
  },
  {
   "cell_type": "code",
   "execution_count": 23,
   "metadata": {},
   "outputs": [
    {
     "name": "stdout",
     "output_type": "stream",
     "text": [
      "wish you happy new year,Atchuta.\n",
      "\n",
      "wish you happy new year,Rama.\n",
      "\n",
      "wish you happy new year,Krishna.\n",
      "\n",
      "wish you happy new year,Ramesh.\n",
      "\n",
      "wish you happy new year,Suresh.\n",
      "\n",
      "wish you happy new year,Ritvik.\n",
      "\n",
      "wish you happy new year,Pratysha.\n",
      "\n",
      "wish you happy new year,Sahasra.\n",
      "\n"
     ]
    }
   ],
   "source": [
    "#enhancement of the code\n",
    "for y in bank_customeres:\n",
    "    print(f\"wish you happy new year,{y.title()}.\\n\")"
   ]
  },
  {
   "cell_type": "code",
   "execution_count": 24,
   "metadata": {},
   "outputs": [
    {
     "name": "stdout",
     "output_type": "stream",
     "text": [
      "wish you happy new year,Atchuta.\n",
      "\n",
      "wish you happy new year,Rama.\n",
      "\n",
      "wish you happy new year,Krishna.\n",
      "\n",
      "wish you happy new year,Ramesh.\n",
      "\n",
      "wish you happy new year,Suresh.\n",
      "\n",
      "wish you happy new year,Ritvik.\n",
      "\n",
      "wish you happy new year,Pratysha.\n",
      "\n",
      "wish you happy new year,Sahasra.\n",
      "\n",
      "Thnaks all  create account in bank \n"
     ]
    }
   ],
   "source": [
    "for y in bank_customeres:\n",
    "    print(f\"wish you happy new year,{y.title()}.\\n\")\n",
    "print(f\"Thnaks all  create account in bank \") "
   ]
  },
  {
   "cell_type": "code",
   "execution_count": 25,
   "metadata": {},
   "outputs": [
    {
     "name": "stdout",
     "output_type": "stream",
     "text": [
      "The Zen of Python, by Tim Peters\n",
      "\n",
      "Beautiful is better than ugly.\n",
      "Explicit is better than implicit.\n",
      "Simple is better than complex.\n",
      "Complex is better than complicated.\n",
      "Flat is better than nested.\n",
      "Sparse is better than dense.\n",
      "Readability counts.\n",
      "Special cases aren't special enough to break the rules.\n",
      "Although practicality beats purity.\n",
      "Errors should never pass silently.\n",
      "Unless explicitly silenced.\n",
      "In the face of ambiguity, refuse the temptation to guess.\n",
      "There should be one-- and preferably only one --obvious way to do it.\n",
      "Although that way may not be obvious at first unless you're Dutch.\n",
      "Now is better than never.\n",
      "Although never is often better than *right* now.\n",
      "If the implementation is hard to explain, it's a bad idea.\n",
      "If the implementation is easy to explain, it may be a good idea.\n",
      "Namespaces are one honking great idea -- let's do more of those!\n"
     ]
    }
   ],
   "source": [
    "import this\n"
   ]
  },
  {
   "cell_type": "code",
   "execution_count": 26,
   "metadata": {},
   "outputs": [
    {
     "name": "stdout",
     "output_type": "stream",
     "text": [
      "['atchuta', 'rama', 'krishna', 'ramesh', 'suresh', 'ritvik', 'pratysha', 'sahasra']\n"
     ]
    }
   ],
   "source": [
    "#organizing the list\n",
    "print(bank_customeres)"
   ]
  },
  {
   "cell_type": "code",
   "execution_count": 27,
   "metadata": {},
   "outputs": [
    {
     "name": "stdout",
     "output_type": "stream",
     "text": [
      "['atchuta', 'krishna', 'pratysha', 'rama', 'ramesh', 'ritvik', 'sahasra', 'suresh']\n"
     ]
    }
   ],
   "source": [
    "#temparary way\n",
    "print(sorted(bank_customeres))"
   ]
  },
  {
   "cell_type": "code",
   "execution_count": 28,
   "metadata": {},
   "outputs": [
    {
     "name": "stdout",
     "output_type": "stream",
     "text": [
      "['atchuta', 'krishna', 'pratysha', 'rama', 'ramesh', 'ritvik', 'sahasra', 'suresh']\n"
     ]
    }
   ],
   "source": [
    "#permenent way\n",
    "bank_customeres.sort()\n",
    "print(bank_customeres)"
   ]
  },
  {
   "cell_type": "code",
   "execution_count": null,
   "metadata": {},
   "outputs": [],
   "source": []
  }
 ],
 "metadata": {
  "kernelspec": {
   "display_name": "Python 3",
   "language": "python",
   "name": "python3"
  },
  "language_info": {
   "codemirror_mode": {
    "name": "ipython",
    "version": 3
   },
   "file_extension": ".py",
   "mimetype": "text/x-python",
   "name": "python",
   "nbconvert_exporter": "python",
   "pygments_lexer": "ipython3",
   "version": "3.7.6"
  }
 },
 "nbformat": 4,
 "nbformat_minor": 4
}
