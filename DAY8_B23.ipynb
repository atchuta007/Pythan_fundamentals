{
 "cells": [
  {
   "cell_type": "code",
   "execution_count": 2,
   "metadata": {},
   "outputs": [
    {
     "name": "stdout",
     "output_type": "stream",
     "text": [
      "{'color': 'green', 'points': 20, 'start_position': 0, 'current_position': 10}\n"
     ]
    }
   ],
   "source": [
    "#More examples of dict\n",
    "alien={'color':'green','points':20,'start_position':0,'current_position':10}\n",
    "print(alien)"
   ]
  },
  {
   "cell_type": "code",
   "execution_count": 3,
   "metadata": {},
   "outputs": [
    {
     "name": "stdout",
     "output_type": "stream",
     "text": [
      "{'color': 'orange', 'points': 30, 'start_position': 0, 'current_position': 10}\n"
     ]
    }
   ],
   "source": [
    "#modify the values in dict\n",
    "alien['color']='orange'\n",
    "alien['points']=30\n",
    "print(alien)"
   ]
  },
  {
   "cell_type": "code",
   "execution_count": 4,
   "metadata": {},
   "outputs": [],
   "source": [
    "#delete key value pairs from the dictionary\n",
    "del alien['points']"
   ]
  },
  {
   "cell_type": "code",
   "execution_count": 5,
   "metadata": {},
   "outputs": [
    {
     "name": "stdout",
     "output_type": "stream",
     "text": [
      "{'color': 'orange', 'start_position': 0, 'current_position': 10}\n"
     ]
    }
   ],
   "source": [
    "print(alien)"
   ]
  },
  {
   "cell_type": "code",
   "execution_count": 6,
   "metadata": {},
   "outputs": [
    {
     "name": "stdout",
     "output_type": "stream",
     "text": [
      "{'atchut': 'cricket', 'ram': 'golf', 'krishna': 'football', 'mohan': 'TT'}\n"
     ]
    }
   ],
   "source": [
    "#looping with dictionary\n",
    "fav_games={'atchut':'cricket','ram':'golf','krishna':'football','mohan':'TT'}\n",
    "print(fav_games)"
   ]
  },
  {
   "cell_type": "code",
   "execution_count": 10,
   "metadata": {},
   "outputs": [],
   "source": [
    "#Noraml syntax,  \n",
    "# for tempVar in mainVar\n",
    " #   print(tempVar)\n",
    "#with dict\n",
    "#for tempvar1,tempvar2 in mainvar.items():\n",
    "#    print(tempvar1)\n",
    "#    print(tempvar2)"
   ]
  },
  {
   "cell_type": "code",
   "execution_count": 11,
   "metadata": {},
   "outputs": [
    {
     "name": "stdout",
     "output_type": "stream",
     "text": [
      "atchut\n",
      "cricket\n",
      "ram\n",
      "golf\n",
      "krishna\n",
      "football\n",
      "mohan\n",
      "TT\n"
     ]
    }
   ],
   "source": [
    "#example\n",
    "for x,y in fav_games.items():\n",
    "    print(x)\n",
    "    print(y)"
   ]
  },
  {
   "cell_type": "code",
   "execution_count": 15,
   "metadata": {},
   "outputs": [
    {
     "name": "stdout",
     "output_type": "stream",
     "text": [
      "key:atchut\n",
      "value:cricket\n",
      "\n",
      "key:ram\n",
      "value:golf\n",
      "\n",
      "key:krishna\n",
      "value:football\n",
      "\n",
      "key:mohan\n",
      "value:TT\n",
      "\n"
     ]
    }
   ],
   "source": [
    "#formating key values\n",
    "for x,y in fav_games.items():\n",
    "    print(f\"key:{x}\")\n",
    "    print(f\"value:{y}\\n\")"
   ]
  },
  {
   "cell_type": "code",
   "execution_count": 17,
   "metadata": {},
   "outputs": [
    {
     "name": "stdout",
     "output_type": "stream",
     "text": [
      "\n",
      " student:atchut\n",
      "\n",
      " student:ram\n",
      "\n",
      " student:krishna\n",
      "\n",
      " student:mohan\n"
     ]
    }
   ],
   "source": [
    "#I want to know who all are the students have taken survey(i want only keys)\n",
    "for x in fav_games.keys():\n",
    "    print(f\"\\n student:{x}\")\n",
    "    "
   ]
  },
  {
   "cell_type": "code",
   "execution_count": 18,
   "metadata": {},
   "outputs": [
    {
     "name": "stdout",
     "output_type": "stream",
     "text": [
      "\n",
      " games:cricket\n",
      "\n",
      " games:golf\n",
      "\n",
      " games:football\n",
      "\n",
      " games:TT\n"
     ]
    }
   ],
   "source": [
    "#I want to know who all are the students have taken survey(i want only keys)\n",
    "for y in fav_games.values():\n",
    "    print(f\"\\n games:{y}\")"
   ]
  },
  {
   "cell_type": "code",
   "execution_count": null,
   "metadata": {},
   "outputs": [],
   "source": []
  }
 ],
 "metadata": {
  "kernelspec": {
   "display_name": "Python 3",
   "language": "python",
   "name": "python3"
  },
  "language_info": {
   "codemirror_mode": {
    "name": "ipython",
    "version": 3
   },
   "file_extension": ".py",
   "mimetype": "text/x-python",
   "name": "python",
   "nbconvert_exporter": "python",
   "pygments_lexer": "ipython3",
   "version": "3.7.6"
  }
 },
 "nbformat": 4,
 "nbformat_minor": 4
}
