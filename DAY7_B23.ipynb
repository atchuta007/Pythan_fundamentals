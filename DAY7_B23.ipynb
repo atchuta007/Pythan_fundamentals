{
 "cells": [
  {
   "cell_type": "code",
   "execution_count": 1,
   "metadata": {},
   "outputs": [
    {
     "name": "stdout",
     "output_type": "stream",
     "text": [
      "['ram', 'laxman', 'krishna', 'faiyaz', 'kiran', 'subbu', 'laxmi', 'rao', 'sam']\n"
     ]
    }
   ],
   "source": [
    "Students=['ram','laxman','krishna','faiyaz','kiran','subbu','laxmi','rao','sam']\n",
    "print(Students)"
   ]
  },
  {
   "cell_type": "code",
   "execution_count": 2,
   "metadata": {},
   "outputs": [
    {
     "name": "stdout",
     "output_type": "stream",
     "text": [
      "(200, 50)\n"
     ]
    }
   ],
   "source": [
    "# tuple dataType(An immutable list is called as tuple)\n",
    "#examples\n",
    "dimensions=(200,50)\n",
    "print(dimensions)"
   ]
  },
  {
   "cell_type": "code",
   "execution_count": 3,
   "metadata": {},
   "outputs": [
    {
     "data": {
      "text/plain": [
       "tuple"
      ]
     },
     "execution_count": 3,
     "metadata": {},
     "output_type": "execute_result"
    }
   ],
   "source": [
    "#type of dattype\n",
    "type(dimensions)"
   ]
  },
  {
   "cell_type": "code",
   "execution_count": 4,
   "metadata": {},
   "outputs": [
    {
     "name": "stdout",
     "output_type": "stream",
     "text": [
      "(250, 50)\n"
     ]
    }
   ],
   "source": [
    "dimensions=(250,50)\n",
    "print(dimensions)"
   ]
  },
  {
   "cell_type": "code",
   "execution_count": 6,
   "metadata": {},
   "outputs": [
    {
     "name": "stdout",
     "output_type": "stream",
     "text": [
      "(10, 20, 30, 40, 50)\n",
      "30\n"
     ]
    }
   ],
   "source": [
    "dimensions=(10,20,30,40,50)\n",
    "print(dimensions)\n",
    "print(dimensions[2])"
   ]
  },
  {
   "cell_type": "code",
   "execution_count": 7,
   "metadata": {},
   "outputs": [
    {
     "name": "stdout",
     "output_type": "stream",
     "text": [
      "10\n",
      "20\n",
      "30\n",
      "40\n",
      "50\n"
     ]
    }
   ],
   "source": [
    "# for loop\n",
    "for x in dimensions:\n",
    "    print(x)"
   ]
  },
  {
   "cell_type": "code",
   "execution_count": 8,
   "metadata": {},
   "outputs": [
    {
     "name": "stdout",
     "output_type": "stream",
     "text": [
      "['sam', 'rao', 'laxmi', 'subbu', 'kiran', 'faiyaz', 'krishna', 'laxman', 'ram']\n"
     ]
    }
   ],
   "source": [
    "#students in reverse order(slicing)\n",
    "print(Students[::-1])"
   ]
  },
  {
   "cell_type": "code",
   "execution_count": 9,
   "metadata": {},
   "outputs": [
    {
     "name": "stdout",
     "output_type": "stream",
     "text": [
      "{'color': 'green', 'points': 5}\n"
     ]
    }
   ],
   "source": [
    "# Dictionary datatype(dict) def:define as key-vale pair\n",
    "#used as curly braces\n",
    "#mutable dataype\n",
    "alien={'color':'green','points':5}\n",
    "print(alien)"
   ]
  },
  {
   "cell_type": "code",
   "execution_count": 10,
   "metadata": {},
   "outputs": [
    {
     "data": {
      "text/plain": [
       "dict"
      ]
     },
     "execution_count": 10,
     "metadata": {},
     "output_type": "execute_result"
    }
   ],
   "source": [
    "#type\n",
    "type(alien)"
   ]
  },
  {
   "cell_type": "code",
   "execution_count": 18,
   "metadata": {},
   "outputs": [
    {
     "name": "stdout",
     "output_type": "stream",
     "text": [
      "{'username': 'atchuta', 'pwd': 12345}\n",
      "atchuta\n",
      "12345\n"
     ]
    }
   ],
   "source": [
    "#req:employ details get from employee data\n",
    "employ_details={'username':'atchuta','pwd':12345}\n",
    "print(employ_details)\n",
    "print(employ_details['username'])\n",
    "print(employ_details['pwd'])\n"
   ]
  },
  {
   "cell_type": "code",
   "execution_count": 19,
   "metadata": {},
   "outputs": [
    {
     "name": "stdout",
     "output_type": "stream",
     "text": [
      "{'username': 'atchuta', 'pwd': 12345, 'location': 'hebbal'}\n"
     ]
    }
   ],
   "source": [
    "employ_details['location']='hebbal'\n",
    "print(employ_details)"
   ]
  },
  {
   "cell_type": "code",
   "execution_count": null,
   "metadata": {},
   "outputs": [],
   "source": []
  }
 ],
 "metadata": {
  "kernelspec": {
   "display_name": "Python 3",
   "language": "python",
   "name": "python3"
  },
  "language_info": {
   "codemirror_mode": {
    "name": "ipython",
    "version": 3
   },
   "file_extension": ".py",
   "mimetype": "text/x-python",
   "name": "python",
   "nbconvert_exporter": "python",
   "pygments_lexer": "ipython3",
   "version": "3.7.6"
  }
 },
 "nbformat": 4,
 "nbformat_minor": 4
}
