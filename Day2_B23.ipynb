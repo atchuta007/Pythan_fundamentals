{
 "cells": [
  {
   "cell_type": "code",
   "execution_count": 2,
   "metadata": {},
   "outputs": [
    {
     "data": {
      "text/plain": [
       "15"
      ]
     },
     "execution_count": 2,
     "metadata": {},
     "output_type": "execute_result"
    }
   ],
   "source": [
    "#Understandng variables in python\n",
    "x=5\n",
    "y=3\n",
    "x*y"
   ]
  },
  {
   "cell_type": "code",
   "execution_count": 4,
   "metadata": {
    "scrolled": true
   },
   "outputs": [
    {
     "name": "stdout",
     "output_type": "stream",
     "text": [
      "Atchuta Rao\n"
     ]
    }
   ],
   "source": [
    "#No spaces used for the variables in python(correct syntax)\n",
    "firstName=\"Atchuta Rao\"\n",
    "print(firstName);"
   ]
  },
  {
   "cell_type": "code",
   "execution_count": 5,
   "metadata": {},
   "outputs": [
    {
     "ename": "SyntaxError",
     "evalue": "invalid syntax (<ipython-input-5-7b9561f8323c>, line 2)",
     "output_type": "error",
     "traceback": [
      "\u001b[1;36m  File \u001b[1;32m\"<ipython-input-5-7b9561f8323c>\"\u001b[1;36m, line \u001b[1;32m2\u001b[0m\n\u001b[1;33m    last name=\"pappala\"\u001b[0m\n\u001b[1;37m            ^\u001b[0m\n\u001b[1;31mSyntaxError\u001b[0m\u001b[1;31m:\u001b[0m invalid syntax\n"
     ]
    }
   ],
   "source": [
    "#Wrong scenario used for the maintan the spaces\n",
    "last name=\"pappala\"\n",
    "print(last name);\n"
   ]
  },
  {
   "cell_type": "code",
   "execution_count": 6,
   "metadata": {},
   "outputs": [
    {
     "name": "stdout",
     "output_type": "stream",
     "text": [
      "pappala\n",
      "Ritvik\n"
     ]
    }
   ],
   "source": [
    "# should not start variable name as a number\n",
    "# correct scenario\n",
    "name123=\"Ritvik\";\n",
    "lastName=\"pappala\";\n",
    "print(lastName);\n",
    "print(name123)"
   ]
  },
  {
   "cell_type": "code",
   "execution_count": 7,
   "metadata": {},
   "outputs": [
    {
     "ename": "SyntaxError",
     "evalue": "invalid syntax (<ipython-input-7-75d21675c41a>, line 2)",
     "output_type": "error",
     "traceback": [
      "\u001b[1;36m  File \u001b[1;32m\"<ipython-input-7-75d21675c41a>\"\u001b[1;36m, line \u001b[1;32m2\u001b[0m\n\u001b[1;33m    firstName@ = \"rao pappala\";\u001b[0m\n\u001b[1;37m               ^\u001b[0m\n\u001b[1;31mSyntaxError\u001b[0m\u001b[1;31m:\u001b[0m invalid syntax\n"
     ]
    }
   ],
   "source": [
    "# YOU should not use any specical special character(wrong example)\n",
    "firstName@ = \"rao pappala\";\n",
    "print(firstName@);\n",
    "\n",
    "\n"
   ]
  },
  {
   "cell_type": "code",
   "execution_count": 11,
   "metadata": {},
   "outputs": [
    {
     "name": "stdout",
     "output_type": "stream",
     "text": [
      "rao pappala\n"
     ]
    }
   ],
   "source": [
    "# YOU should not use any specical special character(right example)\n",
    "firstName = \"rao pappala\";\n",
    "print(firstName);"
   ]
  },
  {
   "cell_type": "code",
   "execution_count": 16,
   "metadata": {},
   "outputs": [
    {
     "name": "stdout",
     "output_type": "stream",
     "text": [
      "Rao Pappala\n",
      "RAO PAPPALA\n",
      "rao pappala\n"
     ]
    }
   ],
   "source": [
    "#example of title/uppercase/lowercase\n",
    "print(firstName.title());\n",
    "print(firstName.upper());\n",
    "print(firstName.lower());"
   ]
  },
  {
   "cell_type": "code",
   "execution_count": null,
   "metadata": {},
   "outputs": [],
   "source": []
  }
 ],
 "metadata": {
  "kernelspec": {
   "display_name": "Python 3",
   "language": "python",
   "name": "python3"
  },
  "language_info": {
   "codemirror_mode": {
    "name": "ipython",
    "version": 3
   },
   "file_extension": ".py",
   "mimetype": "text/x-python",
   "name": "python",
   "nbconvert_exporter": "python",
   "pygments_lexer": "ipython3",
   "version": "3.7.6"
  }
 },
 "nbformat": 4,
 "nbformat_minor": 4
}
